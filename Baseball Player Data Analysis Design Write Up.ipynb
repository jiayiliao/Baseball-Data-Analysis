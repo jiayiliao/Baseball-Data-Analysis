{
 "cells": [
  {
   "cell_type": "markdown",
   "metadata": {},
   "source": [
    "# Data Visualization\n",
    "### by Jiayi Liao"
   ]
  },
  {
   "cell_type": "markdown",
   "metadata": {},
   "source": [
    "## Introduction\n",
    "\n",
    "\n",
    "Tableau Story on Baseball Player Data\n",
    "\n",
    "This is an exploratory data analysis (EDA) using Tableau visualization to explore and demonstrate a story about the physical factors and the performance of 1157 baseball players.\n",
    "\n",
    "\n",
    "The data set includes player name,\thandedness,\theight,\tweight,\taverage batting, and home run. The analysis is based on the relationships between performance and biological characristics from the data set."
   ]
  },
  {
   "cell_type": "markdown",
   "metadata": {},
   "source": [
    "## Visualization"
   ]
  },
  {
   "cell_type": "markdown",
   "metadata": {},
   "source": [
    "  - First Visualization\n",
    "    https://public.tableau.com/profile/jiayi.liao#!/vizhome/BaseballDataFirstDraft/Dashboard3?publish=yes\n",
    "\n",
    "  -  Final Visualization\n",
    "    https://public.tableau.com/profile/jiayi.liao#!/vizhome/BaseballData_25/Story1"
   ]
  },
  {
   "cell_type": "markdown",
   "metadata": {},
   "source": [
    "# Design\n",
    "The X and Y axis headers were used in both the designs and some new variables were introduced in the final design.\n",
    "\n",
    "## Initial Design\n",
    "\n",
    "The initial design was to explore the player performance by handedness. \n",
    "Initial design used bar chart with color to look at home run and average batting by handedness, the visualization also uses box plot for exploring distribution."
   ]
  },
  {
   "cell_type": "markdown",
   "metadata": {},
   "source": [
    "## Research Objectives\n",
    " Use visualization to explore if heights or handedness influence performance.\n",
    "    - Discover total no. of player, total home run, and median average batting by handedness.\n",
    "    - Discover avgrage batting and home run by height and handedness."
   ]
  },
  {
   "cell_type": "markdown",
   "metadata": {},
   "source": [
    "## Feedback\n",
    "1. No clue for any questions.\n",
    "> Added question section.\n",
    "\n",
    "2. The selected finding is not clearly communicated.\n",
    "> Added more analysis and research process details.\n",
    "\n",
    "3. No summary section was found.\n",
    "> Added summary section.\n",
    "\n",
    "4. Couldn't tell if the visualization includes interaction or animation because no links were included in the pdf file.\n",
    "> Added Tableau Online linkes for interactive visualization.\n",
    "\n",
    "5. No design section was found in the pdf file that includes the initial design decisions such as chart type, visual encodings, layout, or legends.\n",
    "> Added design section to the project.\n",
    "\n",
    "6. No feedback collected or documented in a Feedback section of the writeup.\n",
    ">  Added feedback section.\n",
    "\n",
    "7. The project doesn't include evidence that the visualization has been improved.\n",
    "> Included first and last version of visualization."
   ]
  },
  {
   "cell_type": "markdown",
   "metadata": {},
   "source": [
    "## Visualization\n",
    "\n",
    " - Dashboard 1 uses bar charts below show the breakdown of the handedness of the players in the data set, and HR and batting averages of the same data set. \n",
    " \n",
    " - Majority of the players are right handed at 64% with left handed players being only 27%. Players who can hit both are 9%. Comparing no. of players to total home run, interesting to see the 27% of left handed players made 34% of the total home run, higher than the other groups.\n",
    " \n",
    " - To look at distribution, box plots were used in dashboard 1 and median batting among all groups  are very close. Looking at distribution in home run, left handed player performance has a wider range and the average is higher. Right handed player's batting average has a wider range than the other groups.\n",
    " \n",
    "- Dashboard 2 uses line charts to show home run and avg batting go down when height increase.\n",
    "\n",
    "- By looking at handedness breakdown, left handed and right handed player have similar trends, where the player who use both hands have more extreme values due to smaller no. of player.\n"
   ]
  },
  {
   "cell_type": "markdown",
   "metadata": {},
   "source": [
    "## Resource\n",
    " - https://onlinehelp.tableau.com/current/pro/desktop/en-us/publish_workbooks_tableaupublic.html\n",
    " - https://www.tableau.com/learn/training"
   ]
  }
 ],
 "metadata": {
  "kernelspec": {
   "display_name": "Python 3",
   "language": "python",
   "name": "python3"
  },
  "language_info": {
   "codemirror_mode": {
    "name": "ipython",
    "version": 3
   },
   "file_extension": ".py",
   "mimetype": "text/x-python",
   "name": "python",
   "nbconvert_exporter": "python",
   "pygments_lexer": "ipython3",
   "version": "3.6.5"
  }
 },
 "nbformat": 4,
 "nbformat_minor": 2
}
